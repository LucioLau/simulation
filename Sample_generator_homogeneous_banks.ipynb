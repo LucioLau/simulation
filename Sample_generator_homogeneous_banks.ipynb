{
 "cells": [
  {
   "cell_type": "markdown",
   "id": "6b2fabf5-b672-4fdb-9615-a67b4e4d0862",
   "metadata": {},
   "source": [
    "# Sample Generator\n",
    "The aim of this python file is to generate samples of the payment arrivals\n",
    "\n",
    "## Import Libraries"
   ]
  },
  {
   "cell_type": "code",
   "execution_count": 1,
   "id": "034799bd-b2db-4656-92f6-22e0a5f146e0",
   "metadata": {},
   "outputs": [],
   "source": [
    "import concurrent.futures\n",
    "import numpy as np\n",
    "import pandas as pd\n",
    "from scipy.stats import norm\n"
   ]
  },
  {
   "cell_type": "markdown",
   "id": "be7c1d47-cfe9-4863-81c0-1764bad3333a",
   "metadata": {},
   "source": [
    "## Random seed"
   ]
  },
  {
   "cell_type": "code",
   "execution_count": 3,
   "id": "d6e625f5-9e3f-41d8-9651-27e23d09d4ad",
   "metadata": {},
   "outputs": [],
   "source": [
    "rg = np.random.default_rng(12345)\n"
   ]
  },
  {
   "cell_type": "markdown",
   "id": "ef549322-4ada-480f-b205-e73d596d6300",
   "metadata": {},
   "source": [
    "## Parameters\n",
    "\n"
   ]
  },
  {
   "cell_type": "code",
   "execution_count": 2,
   "id": "58fe6298-7373-4115-9fc5-edea13f31545",
   "metadata": {},
   "outputs": [],
   "source": [
    "# Prob of priority\n",
    "_alpha = 0.5\n",
    "\n",
    "# Number of banks\n",
    "N = 15\n",
    "\n",
    "# Number of time periods\n",
    "T = 3_000\n",
    "\n",
    "# Number of samples\n",
    "S = 10_000\n",
    "\n",
    "# Parameters of payment amounts\n",
    "_mu = 1\n",
    "_sigma = 0.25\n",
    "K = 0.01\n",
    "\n",
    "bank = []\n",
    "time = []\n",
    "payee = []\n",
    "priority = []\n",
    "n_sample = []\n",
    "amount = []"
   ]
  },
  {
   "cell_type": "markdown",
   "id": "25a7989f-6abb-4b55-8bca-3c2722eed1df",
   "metadata": {},
   "source": [
    "Function to generate samples"
   ]
  },
  {
   "cell_type": "code",
   "execution_count": 4,
   "id": "3a6d759a-6dec-40b8-afe1-52f05f90b365",
   "metadata": {},
   "outputs": [],
   "source": [
    "def sample_generator(k, N, T, _alpha):\n",
    "    \n",
    "    _lambda = 1/N\n",
    "\n",
    "    for i in range(N):\n",
    "        t = 0\n",
    "        # while loop for a day\n",
    "        while t < T:\n",
    "            ran_t = 0\n",
    "            X_i = 0\n",
    "            ran_payee = 0\n",
    "            ran_pri = 0\n",
    "            # generate order arrvial time\n",
    "            ran_t = rg.random()\n",
    "            t -= np.log(1 - ran_t)/ _lambda\n",
    "            if t > T:\n",
    "                break\n",
    "            \n",
    "            #generate random numbers to assign the variables\n",
    "            X_i = rg.normal(_mu, _sigma, 1)\n",
    "            if X_i[0] > 0:\n",
    "                ran_amount = X_i[0]\n",
    "            else:\n",
    "                ran_amount = 0\n",
    "                \n",
    "            ran_pri = rg.random()\n",
    "            if rg.random() >= _alpha:\n",
    "                priority.append(0)\n",
    "            else:\n",
    "                priority.append(1)\n",
    "                \n",
    "            ran_payee = rg.random()\n",
    "            p = int(ran_payee * (N - 1))\n",
    "            if p >= i:\n",
    "                p += 1\n",
    "                \n",
    "            #append the info to the list\n",
    "            time.append(t)\n",
    "            bank.append(i)\n",
    "            payee.append(p)\n",
    "            n_sample.append(k)\n",
    "            amount.append(ran_amount)"
   ]
  },
  {
   "cell_type": "markdown",
   "id": "fa551edb-3095-46bc-8c2b-06da1d91e596",
   "metadata": {},
   "source": [
    "Apply treading to save time"
   ]
  },
  {
   "cell_type": "code",
   "execution_count": null,
   "id": "ee43b445-7ea6-418f-9cbc-7f05fbf19929",
   "metadata": {},
   "outputs": [],
   "source": [
    "with concurrent.futures.ThreadPoolExecutor() as executor:\n",
    "    result = [executor.submit(sample_generator, k, N, T, _alpha) for k in range(S)]\n",
    "    \n",
    "    for future in concurrent.futures.as_completed(result):\n",
    "        future.result()\n",
    "        \n",
    "samples = pd.DataFrame({'Sample': n_sample,\t'Time': time, 'Bank': bank, 'Payee': payee, \n",
    "                        'Priority': priority, 'Amount': amount})\n",
    "\n",
    "samples.sort_values(by=['Sample','Time'], ignore_index = True, inplace=True)\n",
    "    "
   ]
  },
  {
   "cell_type": "code",
   "execution_count": null,
   "id": "562fd54d-8801-4837-9756-04c496ae32cc",
   "metadata": {},
   "outputs": [],
   "source": [
    "# checking\n",
    "\n",
    "samples['Amount'] = samples['Amount']*(1-K)/np.mean(samples['Amount']) + K\n"
   ]
  },
  {
   "cell_type": "markdown",
   "id": "9de284e8-a2ba-4309-ab5d-33f2e6d6574f",
   "metadata": {},
   "source": [
    "Export as csv file"
   ]
  },
  {
   "cell_type": "code",
   "execution_count": null,
   "id": "d407bfe0-8533-48eb-b878-a24231b5c1da",
   "metadata": {},
   "outputs": [],
   "source": [
    "samples.to_csv(r'C:\\Users\\lucio\\Desktop\\paper\\homobanks_0.5.csv', index=False) # please change %file path into your target file path"
   ]
  }
 ],
 "metadata": {
  "kernelspec": {
   "display_name": "Python 3 (ipykernel)",
   "language": "python",
   "name": "python3"
  },
  "language_info": {
   "codemirror_mode": {
    "name": "ipython",
    "version": 3
   },
   "file_extension": ".py",
   "mimetype": "text/x-python",
   "name": "python",
   "nbconvert_exporter": "python",
   "pygments_lexer": "ipython3",
   "version": "3.9.13"
  }
 },
 "nbformat": 4,
 "nbformat_minor": 5
}
